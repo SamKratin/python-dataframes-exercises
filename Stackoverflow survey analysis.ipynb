{
 "cells": [
  {
   "cell_type": "code",
   "execution_count": 40,
   "id": "365e44ae",
   "metadata": {},
   "outputs": [],
   "source": [
    "import pandas as pd\n",
    "import statistics as stats"
   ]
  },
  {
   "cell_type": "code",
   "execution_count": 1,
   "id": "bf61e4f7",
   "metadata": {},
   "outputs": [
    {
     "ename": "NameError",
     "evalue": "name 'pd' is not defined",
     "output_type": "error",
     "traceback": [
      "\u001b[1;31m---------------------------------------------------------------------------\u001b[0m",
      "\u001b[1;31mNameError\u001b[0m                                 Traceback (most recent call last)",
      "Cell \u001b[1;32mIn[1], line 1\u001b[0m\n\u001b[1;32m----> 1\u001b[0m df1 \u001b[38;5;241m=\u001b[39m \u001b[43mpd\u001b[49m\u001b[38;5;241m.\u001b[39mread_csv(\u001b[38;5;124mr\u001b[39m\u001b[38;5;124m'\u001b[39m\u001b[38;5;124mDesktop\u001b[39m\u001b[38;5;124m\\\u001b[39m\u001b[38;5;124msurvey_results_public.csv\u001b[39m\u001b[38;5;124m'\u001b[39m)\n\u001b[0;32m      2\u001b[0m df2 \u001b[38;5;241m=\u001b[39m pd\u001b[38;5;241m.\u001b[39mread_csv(\u001b[38;5;124mr\u001b[39m\u001b[38;5;124m'\u001b[39m\u001b[38;5;124mDesktop\u001b[39m\u001b[38;5;124m\\\u001b[39m\u001b[38;5;124msurvey_results_schema.csv\u001b[39m\u001b[38;5;124m'\u001b[39m)\n",
      "\u001b[1;31mNameError\u001b[0m: name 'pd' is not defined"
     ]
    }
   ],
   "source": [
    "df1 = pd.read_csv(r'Desktop\\survey_results_public.csv')\n",
    "df2 = pd.read_csv(r'Desktop\\survey_results_schema.csv')"
   ]
  },
  {
   "cell_type": "code",
   "execution_count": 42,
   "id": "ad79f1d3",
   "metadata": {},
   "outputs": [
    {
     "data": {
      "text/plain": [
       "Index(['ResponseId', 'MainBranch', 'Age', 'Employment', 'RemoteWork', 'Check',\n",
       "       'CodingActivities', 'EdLevel', 'LearnCode', 'LearnCodeOnline',\n",
       "       ...\n",
       "       'JobSatPoints_6', 'JobSatPoints_7', 'JobSatPoints_8', 'JobSatPoints_9',\n",
       "       'JobSatPoints_10', 'JobSatPoints_11', 'SurveyLength', 'SurveyEase',\n",
       "       'ConvertedCompYearly', 'JobSat'],\n",
       "      dtype='object', length=114)"
      ]
     },
     "execution_count": 42,
     "metadata": {},
     "output_type": "execute_result"
    }
   ],
   "source": [
    "df1.columns"
   ]
  },
  {
   "cell_type": "code",
   "execution_count": 43,
   "id": "7d5e2e52",
   "metadata": {},
   "outputs": [
    {
     "data": {
      "application/vnd.microsoft.datawrangler.viewer.v0+json": {
       "columns": [
        {
         "name": "index",
         "rawType": "int64",
         "type": "integer"
        },
        {
         "name": "qname",
         "rawType": "object",
         "type": "string"
        }
       ],
       "ref": "76e93be8-cc59-4f9a-928e-a0db0775b0a7",
       "rows": [
        [
         "0",
         "MainBranch"
        ],
        [
         "1",
         "Age"
        ],
        [
         "2",
         "Employment"
        ],
        [
         "3",
         "RemoteWork"
        ],
        [
         "4",
         "Check"
        ],
        [
         "5",
         "CodingActivities"
        ],
        [
         "6",
         "EdLevel"
        ],
        [
         "7",
         "LearnCode"
        ],
        [
         "8",
         "LearnCodeOnline"
        ],
        [
         "9",
         "TechDoc"
        ],
        [
         "10",
         "YearsCode"
        ],
        [
         "11",
         "YearsCodePro"
        ],
        [
         "12",
         "DevType"
        ],
        [
         "13",
         "OrgSize"
        ],
        [
         "14",
         "PurchaseInfluence"
        ],
        [
         "15",
         "BuyNewTool"
        ],
        [
         "16",
         "BuildvsBuy"
        ],
        [
         "17",
         "TechEndorse"
        ],
        [
         "18",
         "Country"
        ],
        [
         "19",
         "Currency"
        ],
        [
         "20",
         "CompTotal"
        ],
        [
         "21",
         "Language"
        ],
        [
         "22",
         "Database"
        ],
        [
         "23",
         "Platform"
        ],
        [
         "24",
         "Webframe"
        ],
        [
         "25",
         "Embedded"
        ],
        [
         "26",
         "MiscTech"
        ],
        [
         "27",
         "ToolsTech"
        ],
        [
         "28",
         "NEWCollabTools"
        ],
        [
         "29",
         "OpSys"
        ],
        [
         "30",
         "OfficeStackAsync"
        ],
        [
         "31",
         "OfficeStackSync"
        ],
        [
         "32",
         "AISearchDev"
        ],
        [
         "33",
         "NEWSOSites"
        ],
        [
         "34",
         "SOVisitFreq"
        ],
        [
         "35",
         "SOAccount"
        ],
        [
         "36",
         "SOPartFreq"
        ],
        [
         "37",
         "SOHow"
        ],
        [
         "38",
         "SOComm"
        ],
        [
         "39",
         "AISelect"
        ],
        [
         "40",
         "AISent"
        ],
        [
         "41",
         "AIBen"
        ],
        [
         "42",
         "AIAcc"
        ],
        [
         "43",
         "AIComplex"
        ],
        [
         "44",
         "AITool"
        ],
        [
         "45",
         "AINext"
        ],
        [
         "46",
         "AIThreat"
        ],
        [
         "47",
         "AIEthics"
        ],
        [
         "48",
         "AIChallenges"
        ],
        [
         "49",
         "TBranch"
        ]
       ],
       "shape": {
        "columns": 1,
        "rows": 87
       }
      },
      "text/plain": [
       "0          MainBranch\n",
       "1                 Age\n",
       "2          Employment\n",
       "3          RemoteWork\n",
       "4               Check\n",
       "           ...       \n",
       "82     JobSatPoints_7\n",
       "83     JobSatPoints_8\n",
       "84     JobSatPoints_9\n",
       "85    JobSatPoints_10\n",
       "86    JobSatPoints_11\n",
       "Name: qname, Length: 87, dtype: object"
      ]
     },
     "execution_count": 43,
     "metadata": {},
     "output_type": "execute_result"
    }
   ],
   "source": [
    "df2['qname']"
   ]
  },
  {
   "cell_type": "code",
   "execution_count": 44,
   "id": "86bea0a4",
   "metadata": {},
   "outputs": [
    {
     "data": {
      "application/vnd.microsoft.datawrangler.viewer.v0+json": {
       "columns": [
        {
         "name": "index",
         "rawType": "int64",
         "type": "integer"
        },
        {
         "name": "ResponseId",
         "rawType": "int64",
         "type": "integer"
        },
        {
         "name": "MainBranch",
         "rawType": "object",
         "type": "string"
        },
        {
         "name": "Age",
         "rawType": "object",
         "type": "string"
        },
        {
         "name": "Employment",
         "rawType": "object",
         "type": "string"
        },
        {
         "name": "RemoteWork",
         "rawType": "object",
         "type": "string"
        },
        {
         "name": "Check",
         "rawType": "object",
         "type": "string"
        },
        {
         "name": "CodingActivities",
         "rawType": "object",
         "type": "string"
        },
        {
         "name": "EdLevel",
         "rawType": "object",
         "type": "string"
        },
        {
         "name": "LearnCode",
         "rawType": "object",
         "type": "string"
        },
        {
         "name": "LearnCodeOnline",
         "rawType": "object",
         "type": "unknown"
        },
        {
         "name": "TechDoc",
         "rawType": "object",
         "type": "unknown"
        },
        {
         "name": "YearsCode",
         "rawType": "object",
         "type": "string"
        },
        {
         "name": "YearsCodePro",
         "rawType": "object",
         "type": "string"
        },
        {
         "name": "DevType",
         "rawType": "object",
         "type": "string"
        },
        {
         "name": "OrgSize",
         "rawType": "object",
         "type": "string"
        },
        {
         "name": "PurchaseInfluence",
         "rawType": "object",
         "type": "string"
        },
        {
         "name": "BuyNewTool",
         "rawType": "object",
         "type": "string"
        },
        {
         "name": "BuildvsBuy",
         "rawType": "object",
         "type": "string"
        },
        {
         "name": "TechEndorse",
         "rawType": "object",
         "type": "string"
        },
        {
         "name": "Country",
         "rawType": "object",
         "type": "string"
        },
        {
         "name": "Currency",
         "rawType": "object",
         "type": "string"
        },
        {
         "name": "CompTotal",
         "rawType": "float64",
         "type": "float"
        },
        {
         "name": "LanguageHaveWorkedWith",
         "rawType": "object",
         "type": "string"
        },
        {
         "name": "LanguageWantToWorkWith",
         "rawType": "object",
         "type": "string"
        },
        {
         "name": "LanguageAdmired",
         "rawType": "object",
         "type": "string"
        },
        {
         "name": "DatabaseHaveWorkedWith",
         "rawType": "object",
         "type": "string"
        },
        {
         "name": "DatabaseWantToWorkWith",
         "rawType": "object",
         "type": "string"
        },
        {
         "name": "DatabaseAdmired",
         "rawType": "object",
         "type": "string"
        },
        {
         "name": "PlatformHaveWorkedWith",
         "rawType": "object",
         "type": "unknown"
        },
        {
         "name": "PlatformWantToWorkWith",
         "rawType": "object",
         "type": "unknown"
        },
        {
         "name": "PlatformAdmired",
         "rawType": "object",
         "type": "unknown"
        },
        {
         "name": "WebframeHaveWorkedWith",
         "rawType": "object",
         "type": "unknown"
        },
        {
         "name": "WebframeWantToWorkWith",
         "rawType": "object",
         "type": "unknown"
        },
        {
         "name": "WebframeAdmired",
         "rawType": "object",
         "type": "unknown"
        },
        {
         "name": "EmbeddedHaveWorkedWith",
         "rawType": "object",
         "type": "unknown"
        },
        {
         "name": "EmbeddedWantToWorkWith",
         "rawType": "object",
         "type": "unknown"
        },
        {
         "name": "EmbeddedAdmired",
         "rawType": "object",
         "type": "unknown"
        },
        {
         "name": "MiscTechHaveWorkedWith",
         "rawType": "object",
         "type": "string"
        },
        {
         "name": "MiscTechWantToWorkWith",
         "rawType": "object",
         "type": "string"
        },
        {
         "name": "MiscTechAdmired",
         "rawType": "object",
         "type": "string"
        },
        {
         "name": "ToolsTechHaveWorkedWith",
         "rawType": "object",
         "type": "string"
        },
        {
         "name": "ToolsTechWantToWorkWith",
         "rawType": "object",
         "type": "unknown"
        },
        {
         "name": "ToolsTechAdmired",
         "rawType": "object",
         "type": "unknown"
        },
        {
         "name": "NEWCollabToolsHaveWorkedWith",
         "rawType": "object",
         "type": "string"
        },
        {
         "name": "NEWCollabToolsWantToWorkWith",
         "rawType": "object",
         "type": "string"
        },
        {
         "name": "NEWCollabToolsAdmired",
         "rawType": "object",
         "type": "string"
        },
        {
         "name": "OpSysPersonal use",
         "rawType": "object",
         "type": "string"
        },
        {
         "name": "OpSysProfessional use",
         "rawType": "object",
         "type": "string"
        },
        {
         "name": "OfficeStackAsyncHaveWorkedWith",
         "rawType": "object",
         "type": "unknown"
        },
        {
         "name": "OfficeStackAsyncWantToWorkWith",
         "rawType": "object",
         "type": "unknown"
        },
        {
         "name": "OfficeStackAsyncAdmired",
         "rawType": "object",
         "type": "unknown"
        },
        {
         "name": "OfficeStackSyncHaveWorkedWith",
         "rawType": "object",
         "type": "string"
        },
        {
         "name": "OfficeStackSyncWantToWorkWith",
         "rawType": "object",
         "type": "unknown"
        },
        {
         "name": "OfficeStackSyncAdmired",
         "rawType": "object",
         "type": "unknown"
        },
        {
         "name": "AISearchDevHaveWorkedWith",
         "rawType": "object",
         "type": "unknown"
        },
        {
         "name": "AISearchDevWantToWorkWith",
         "rawType": "object",
         "type": "unknown"
        },
        {
         "name": "AISearchDevAdmired",
         "rawType": "object",
         "type": "unknown"
        },
        {
         "name": "NEWSOSites",
         "rawType": "object",
         "type": "string"
        },
        {
         "name": "SOVisitFreq",
         "rawType": "object",
         "type": "string"
        },
        {
         "name": "SOAccount",
         "rawType": "object",
         "type": "string"
        },
        {
         "name": "SOPartFreq",
         "rawType": "object",
         "type": "unknown"
        },
        {
         "name": "SOHow",
         "rawType": "object",
         "type": "string"
        },
        {
         "name": "SOComm",
         "rawType": "object",
         "type": "string"
        },
        {
         "name": "AISelect",
         "rawType": "object",
         "type": "string"
        },
        {
         "name": "AISent",
         "rawType": "object",
         "type": "unknown"
        },
        {
         "name": "AIBen",
         "rawType": "object",
         "type": "unknown"
        },
        {
         "name": "AIAcc",
         "rawType": "object",
         "type": "unknown"
        },
        {
         "name": "AIComplex",
         "rawType": "object",
         "type": "unknown"
        },
        {
         "name": "AIToolCurrently Using",
         "rawType": "object",
         "type": "unknown"
        },
        {
         "name": "AIToolInterested in Using",
         "rawType": "object",
         "type": "unknown"
        },
        {
         "name": "AIToolNot interested in Using",
         "rawType": "object",
         "type": "unknown"
        },
        {
         "name": "AINextMuch more integrated",
         "rawType": "object",
         "type": "unknown"
        },
        {
         "name": "AINextNo change",
         "rawType": "object",
         "type": "unknown"
        },
        {
         "name": "AINextMore integrated",
         "rawType": "object",
         "type": "unknown"
        },
        {
         "name": "AINextLess integrated",
         "rawType": "object",
         "type": "unknown"
        },
        {
         "name": "AINextMuch less integrated",
         "rawType": "object",
         "type": "unknown"
        },
        {
         "name": "AIThreat",
         "rawType": "object",
         "type": "unknown"
        },
        {
         "name": "AIEthics",
         "rawType": "object",
         "type": "unknown"
        },
        {
         "name": "AIChallenges",
         "rawType": "object",
         "type": "unknown"
        },
        {
         "name": "TBranch",
         "rawType": "object",
         "type": "unknown"
        },
        {
         "name": "ICorPM",
         "rawType": "object",
         "type": "unknown"
        },
        {
         "name": "WorkExp",
         "rawType": "float64",
         "type": "float"
        },
        {
         "name": "Knowledge_1",
         "rawType": "object",
         "type": "unknown"
        },
        {
         "name": "Knowledge_2",
         "rawType": "object",
         "type": "unknown"
        },
        {
         "name": "Knowledge_3",
         "rawType": "object",
         "type": "unknown"
        },
        {
         "name": "Knowledge_4",
         "rawType": "object",
         "type": "unknown"
        },
        {
         "name": "Knowledge_5",
         "rawType": "object",
         "type": "unknown"
        },
        {
         "name": "Knowledge_6",
         "rawType": "object",
         "type": "unknown"
        },
        {
         "name": "Knowledge_7",
         "rawType": "object",
         "type": "unknown"
        },
        {
         "name": "Knowledge_8",
         "rawType": "object",
         "type": "unknown"
        },
        {
         "name": "Knowledge_9",
         "rawType": "object",
         "type": "unknown"
        },
        {
         "name": "Frequency_1",
         "rawType": "object",
         "type": "unknown"
        },
        {
         "name": "Frequency_2",
         "rawType": "object",
         "type": "unknown"
        },
        {
         "name": "Frequency_3",
         "rawType": "object",
         "type": "unknown"
        },
        {
         "name": "TimeSearching",
         "rawType": "object",
         "type": "unknown"
        },
        {
         "name": "TimeAnswering",
         "rawType": "object",
         "type": "unknown"
        },
        {
         "name": "Frustration",
         "rawType": "object",
         "type": "unknown"
        },
        {
         "name": "ProfessionalTech",
         "rawType": "object",
         "type": "unknown"
        },
        {
         "name": "ProfessionalCloud",
         "rawType": "object",
         "type": "unknown"
        },
        {
         "name": "ProfessionalQuestion",
         "rawType": "object",
         "type": "unknown"
        },
        {
         "name": "Industry",
         "rawType": "object",
         "type": "unknown"
        },
        {
         "name": "JobSatPoints_1",
         "rawType": "float64",
         "type": "float"
        },
        {
         "name": "JobSatPoints_4",
         "rawType": "float64",
         "type": "float"
        },
        {
         "name": "JobSatPoints_5",
         "rawType": "float64",
         "type": "float"
        },
        {
         "name": "JobSatPoints_6",
         "rawType": "float64",
         "type": "float"
        },
        {
         "name": "JobSatPoints_7",
         "rawType": "float64",
         "type": "float"
        },
        {
         "name": "JobSatPoints_8",
         "rawType": "float64",
         "type": "float"
        },
        {
         "name": "JobSatPoints_9",
         "rawType": "float64",
         "type": "float"
        },
        {
         "name": "JobSatPoints_10",
         "rawType": "float64",
         "type": "float"
        },
        {
         "name": "JobSatPoints_11",
         "rawType": "float64",
         "type": "float"
        },
        {
         "name": "SurveyLength",
         "rawType": "object",
         "type": "unknown"
        },
        {
         "name": "SurveyEase",
         "rawType": "object",
         "type": "unknown"
        },
        {
         "name": "ConvertedCompYearly",
         "rawType": "float64",
         "type": "float"
        },
        {
         "name": "JobSat",
         "rawType": "float64",
         "type": "float"
        }
       ],
       "ref": "fe0226c6-a1e1-4336-b80c-b204aee06249",
       "rows": [
        [
         "6824",
         "6825",
         "I am a developer by profession",
         "25-34 years old",
         "Employed, full-time",
         "In-person",
         "Apples",
         "Hobby;Freelance/contract work",
         "Bachelor’s degree (B.A., B.S., B.Eng., etc.)",
         "Books / Physical media;Other online resources (e.g., videos, blogs, forum, online community);Online Courses or Certification;Coding Bootcamp",
         "Technical documentation;Blogs;Books;Written Tutorials;Stack Overflow;Social Media;How-to videos;Interactive tutorial;Video-based Online Courses;Written-based Online Courses;AI;Certification videos",
         "API document(s) and/or SDK document(s);User guides or README files found in the source repository;First-party knowledge base;Traditional public search engine",
         "8",
         "4",
         "Developer, mobile",
         "20 to 99 employees",
         "I have little or no influence",
         "Start a free trial;Ask developers I know/work with;Ask a generative AI tool;Visit developer communities like Stack Overflow",
         "Is ready-to-go but also customizable for growth and targeted use cases",
         "APIs;Customization;Integrated developer community;Reputation for quality and excellence;Frequent updates to features;Connected to an open source project",
         "Bangladesh",
         "BDT\tBangladeshi taka",
         "480000.0",
         "Dart",
         "Dart;Go",
         "Dart",
         "MySQL;PostgreSQL;SQLite",
         "MySQL;PostgreSQL;SQLite",
         "MySQL;PostgreSQL;SQLite",
         "Amazon Web Services (AWS);Firebase;Google Cloud",
         "Amazon Web Services (AWS);Firebase;Google Cloud",
         "Amazon Web Services (AWS);Firebase;Google Cloud",
         null,
         null,
         null,
         null,
         null,
         null,
         "Flutter",
         "Flutter",
         "Flutter",
         "Docker;Homebrew;npm",
         "Docker;Homebrew;npm",
         "Docker;Homebrew;npm",
         "Android Studio;Visual Studio Code",
         "Android Studio;Notepad++;Visual Studio Code",
         "Android Studio;Visual Studio Code",
         "Android;iOS;MacOS;Windows",
         "Android;iOS;MacOS;Ubuntu;Windows",
         "Redmine;Trello",
         "Jira;Redmine;Trello",
         "Redmine;Trello",
         "Discord;Google Meet;Mattermost;Skype;Slack;Telegram;Whatsapp;Zoom",
         "Discord;Google Meet;Mattermost;Skype;Slack;Telegram;Whatsapp;Zoom",
         "Discord;Google Meet;Mattermost;Skype;Slack;Telegram;Whatsapp;Zoom",
         "ChatGPT",
         "Bing AI;ChatGPT;GitHub Copilot;Google Gemini",
         "ChatGPT",
         "Stack Overflow",
         "Multiple times per day",
         "Yes",
         "Less than once per month or monthly",
         "Quickly finding code solutions;Finding reliable guidance from community-vetted answers;Showcase expertise with code solutions;Engage with community by commenting on questions and answers or voting on questions and answers;Learning new-to-me technology/techniques;Learning new-to-everyone technology/techniques",
         "Yes, definitely",
         "No, but I plan to soon",
         "Indifferent",
         null,
         null,
         null,
         null,
         null,
         null,
         null,
         null,
         null,
         null,
         null,
         "No",
         "Circulating misinformation or disinformation;Missing or incorrect attribution for sources of data;Replacing jobs without options for new employment opportunities;Biased results that do not represent diverse viewpoints;Imitating a person's likeness;Energy demand",
         "Don’t trust the output or answers;AI tools lack context of codebase,  internal architecture, and/or company knowledge;Lack of proper training and education on new tools;Lack of executive buy-in;Not everyone uses them;We don’t have the right policies in place to reduce security risks;They create more work (more code/PRs to review, etc.)",
         "Yes",
         "Individual contributor",
         "4.0",
         "Agree",
         "Neither agree nor disagree",
         "Disagree",
         "Neither agree nor disagree",
         "Neither agree nor disagree",
         "Neither agree nor disagree",
         "Agree",
         "Neither agree nor disagree",
         "Neither agree nor disagree",
         "1-2 times a week",
         "1-2 times a week",
         "Never",
         "30-60 minutes a day",
         "Less than 15 minutes a day",
         "Tracking my work;Showing my contributions",
         "DevOps function;Microservices",
         "Hybrid (on-prem and cloud)",
         "Traditional public search engine",
         "Software Development",
         "0.0",
         "0.0",
         "0.0",
         "0.0",
         "0.0",
         "0.0",
         "0.0",
         "0.0",
         "0.0",
         "Too long",
         "Neither easy nor difficult",
         "4079.0",
         "5.0"
        ],
        [
         "47683",
         "47684",
         "I am a developer by profession",
         "35-44 years old",
         "Employed, full-time",
         "In-person",
         "Apples",
         "Hobby;Bootstrapping a business;Professional development or self-paced learning from online courses",
         "Master’s degree (M.A., M.S., M.Eng., MBA, etc.)",
         "Other online resources (e.g., videos, blogs, forum, online community);School (i.e., University, College, etc)",
         "Technical documentation;Blogs;Written Tutorials;Stack Overflow;Video-based Online Courses;Written-based Online Courses;Online challenges (e.g., daily or weekly coding challenges)",
         "API document(s) and/or SDK document(s);User guides or README files found in the source repository",
         "20",
         "15",
         "Developer, full-stack",
         "10 to 19 employees",
         "I have some influence",
         "Start a free trial;Ask developers I know/work with;Visit developer communities like Stack Overflow;Read ratings or reviews on third party sites like G2 Crowd",
         "Is set up to be customized and needs to be engineered into a usable product",
         "APIs;Integrated developer community;Frequent updates to features;Connected to an open source project",
         "United Kingdom of Great Britain and Northern Ireland",
         "GBP\tPound sterling",
         "57000.0",
         "HTML/CSS;JavaScript;Python;SQL;TypeScript",
         "HTML/CSS;JavaScript;Python;SQL;TypeScript",
         "HTML/CSS;JavaScript;Python;SQL;TypeScript",
         "PostgreSQL;SQLite",
         "PostgreSQL;SQLite",
         "PostgreSQL;SQLite",
         null,
         null,
         null,
         "Angular;Django",
         "Angular;Django",
         "Angular;Django",
         null,
         null,
         null,
         "Capacitor;Cordova;Ionic",
         "Capacitor;Cordova;Ionic",
         "Capacitor;Cordova;Ionic",
         "Docker;npm;Pip",
         "Docker;npm;Pip",
         "Docker;npm;Pip",
         "Visual Studio Code",
         "Visual Studio Code",
         "Visual Studio Code",
         "Debian;Ubuntu",
         "Debian;Ubuntu",
         null,
         null,
         null,
         "Microsoft Teams;Slack",
         "Microsoft Teams;Slack",
         "Microsoft Teams;Slack",
         null,
         null,
         null,
         "Stack Overflow;Stack Overflow Blog or Podcast",
         "Multiple times per day",
         "Yes",
         "A few times per month or weekly",
         "Quickly finding code solutions;Finding reliable guidance from community-vetted answers",
         "Yes, somewhat",
         "No, and I don't plan to",
         null,
         null,
         null,
         null,
         null,
         null,
         null,
         null,
         null,
         null,
         null,
         null,
         null,
         null,
         null,
         "Yes",
         "Individual contributor",
         "15.0",
         "Strongly agree",
         "Agree",
         "Strongly agree",
         "Agree",
         "Strongly agree",
         "Agree",
         "Neither agree nor disagree",
         "Agree",
         "Disagree",
         "Never",
         "3-5 times a week",
         "1-2 times a week",
         "15-30 minutes a day",
         "30-60 minutes a day",
         "Reliability of tools/systems used in work",
         "None of these",
         "Cloud only (single or multi-cloud)",
         "Traditional public search engine",
         "Computer Systems Design and Services",
         "20.0",
         "5.0",
         "0.0",
         "20.0",
         "20.0",
         "30.0",
         "5.0",
         "0.0",
         "0.0",
         "Appropriate in length",
         "Easy",
         null,
         "9.0"
        ],
        [
         "59887",
         "59888",
         "I am a developer by profession",
         "55-64 years old",
         "Not employed, but looking for work;Independent contractor, freelancer, or self-employed",
         "Remote",
         "Apples",
         "Freelance/contract work",
         "Master’s degree (M.A., M.S., M.Eng., MBA, etc.)",
         "Books / Physical media;Colleague;On the job training",
         null,
         null,
         "35",
         "28",
         "Developer, back-end",
         "Just me - I am a freelancer, sole proprietor, etc.",
         "I have some influence",
         "Ask developers I know/work with;Visit developer communities like Stack Overflow",
         "Is set up to be customized and needs to be engineered into a usable product",
         "APIs;Integrated developer community;Frequent updates to features",
         "United States of America",
         "NAD\tNamibian dollar",
         "7777777777777.0",
         "C;C++;Perl;PHP;Python;R;SQL",
         "C;C++;Clojure;Erlang;Go;Haskell;Python;R;SQL",
         "C;C++;Python;R;SQL",
         "Elasticsearch;MySQL;Neo4J;PostgreSQL;Redis",
         "Elasticsearch;Neo4J;PostgreSQL;Redis",
         "Elasticsearch;Neo4J;PostgreSQL;Redis",
         "Amazon Web Services (AWS)",
         "Amazon Web Services (AWS)",
         "Amazon Web Services (AWS)",
         "Django;Flask",
         "Django;Flask",
         "Django;Flask",
         null,
         null,
         null,
         "Apache Kafka;Hadoop;Pandas;RabbitMQ;Scikit-Learn",
         "Hadoop;Pandas;RabbitMQ;Scikit-Learn;TensorFlow;Torch/PyTorch",
         "Hadoop;Pandas;RabbitMQ;Scikit-Learn",
         "Docker;Homebrew;Make;npm",
         "Docker;Homebrew;Make;Terraform",
         "Docker;Homebrew;Make",
         "Emacs;IPython;Jupyter Notebook/JupyterLab;Nano;PyCharm;Sublime Text;Vim",
         "Sublime Text;Vim",
         "Sublime Text;Vim",
         "AIX;Android;BSD;Cygwin;Debian;Fedora;iOS;MacOS;Other Linux-based;Red Hat;Solaris;Ubuntu;Windows",
         "AIX;BSD;Debian;Fedora;Other Linux-based;Red Hat;Solaris;Ubuntu",
         "Confluence;Jira",
         "Jira",
         "Jira",
         "IRC;Skype;Slack;Zoom",
         "Slack",
         "Slack",
         null,
         null,
         null,
         "Stack Overflow;Stack Exchange",
         "Less than once per month or monthly",
         "Yes",
         "Less than once per month or monthly",
         "Quickly finding code solutions;Finding reliable guidance from community-vetted answers;Showcase expertise with code solutions;Engage with community by commenting on questions and answers or voting on questions and answers;Learning new-to-me technology/techniques",
         "No, not really",
         "Yes",
         "Indifferent",
         "Improve accuracy in coding",
         "Somewhat distrust",
         "Very poor at handling complex tasks",
         null,
         null,
         null,
         null,
         null,
         null,
         null,
         null,
         null,
         null,
         null,
         null,
         null,
         null,
         null,
         null,
         null,
         null,
         null,
         null,
         null,
         null,
         null,
         null,
         null,
         null,
         null,
         null,
         null,
         null,
         null,
         null,
         null,
         null,
         null,
         null,
         null,
         null,
         null,
         null,
         null,
         null,
         null,
         null,
         null,
         null
        ],
        [
         "3879",
         "3880",
         "I am a developer by profession",
         "35-44 years old",
         "Employed, full-time",
         "Remote",
         "Apples",
         "I don’t code outside of work",
         "Professional degree (JD, MD, Ph.D, Ed.D, etc.)",
         "Coding Bootcamp",
         null,
         null,
         "7",
         "7",
         "Developer, full-stack",
         "10,000 or more employees",
         "I have little or no influence",
         "Ask developers I know/work with;Visit developer communities like Stack Overflow;Read ratings or reviews on third party sites like G2 Crowd",
         "Is ready-to-go but also customizable for growth and targeted use cases",
         "APIs;Customization;Integrated developer community;Reputation for quality and excellence;Connected to an open source project",
         "United Kingdom of Great Britain and Northern Ireland",
         "GBP\tPound sterling",
         null,
         "C#;TypeScript",
         "C#",
         "C#",
         "Dynamodb;PostgreSQL;Redis",
         "Dynamodb;PostgreSQL",
         "Dynamodb;PostgreSQL",
         "Amazon Web Services (AWS)",
         "Amazon Web Services (AWS)",
         "Amazon Web Services (AWS)",
         "ASP.NET CORE;Node.js;React",
         "ASP.NET CORE",
         "ASP.NET CORE",
         null,
         null,
         null,
         ".NET (5+) ",
         ".NET (5+) ",
         ".NET (5+) ",
         "Ansible;Docker;Ninja;NuGet;Yarn",
         null,
         null,
         "Visual Studio;Visual Studio Code",
         "Visual Studio;Visual Studio Code",
         "Visual Studio;Visual Studio Code",
         "Windows",
         "Windows",
         "Jira;Miro;Trello",
         null,
         null,
         "Google Meet;Slack;Zoom",
         "Google Meet;Slack",
         "Google Meet;Slack",
         "Amazon Q",
         null,
         null,
         "Stack Overflow",
         "Daily or almost daily",
         "No",
         null,
         "Quickly finding code solutions;Finding reliable guidance from community-vetted answers",
         "Neutral",
         "No, and I don't plan to",
         null,
         null,
         null,
         null,
         null,
         null,
         null,
         null,
         null,
         null,
         null,
         null,
         null,
         null,
         null,
         "Yes",
         "Individual contributor",
         "7.0",
         "Agree",
         "Neither agree nor disagree",
         "Neither agree nor disagree",
         "Neither agree nor disagree",
         "Agree",
         "Strongly agree",
         "Agree",
         "Disagree",
         "Strongly disagree",
         "1-2 times a week",
         "10+ times a week",
         "1-2 times a week",
         "30-60 minutes a day",
         "30-60 minutes a day",
         "Amount of technical debt;Number of software tools in use",
         "Automated testing;Observability tools;Knowledge sharing community;AI-assisted technology tool(s);Microservices;Developer portal or other central places to find tools/services;Continuous integration (CI) and (more often) continuous delivery;Innersource initiative",
         "Cloud only (single or multi-cloud)",
         "Traditional public search engine",
         "Retail and Consumer Services",
         "0.0",
         "0.0",
         "0.0",
         "0.0",
         "0.0",
         "0.0",
         "0.0",
         "0.0",
         "0.0",
         "Appropriate in length",
         "Neither easy nor difficult",
         null,
         "8.0"
        ],
        [
         "52469",
         "52470",
         "I am a developer by profession",
         "45-54 years old",
         "Employed, full-time",
         "Remote",
         "Apples",
         "Hobby;Contribute to open-source projects",
         "Master’s degree (M.A., M.S., M.Eng., MBA, etc.)",
         "Other online resources (e.g., videos, blogs, forum, online community)",
         "Technical documentation;Books;Stack Overflow;Online challenges (e.g., daily or weekly coding challenges)",
         "API document(s) and/or SDK document(s);Traditional public search engine",
         "22",
         "22",
         "Developer, back-end",
         "1,000 to 4,999 employees",
         "I have little or no influence",
         "Start a free trial;Ask developers I know/work with;Visit developer communities like Stack Overflow",
         "Is set up to be customized and needs to be engineered into a usable product",
         "Reputation for quality and excellence",
         "United Kingdom of Great Britain and Northern Ireland",
         "GBP\tPound sterling",
         null,
         "C#;Python;SQL;VBA",
         "Python;SQL",
         "Python;SQL",
         "Microsoft SQL Server;PostgreSQL;SQLite",
         "BigQuery;Databricks SQL;Microsoft SQL Server;PostgreSQL;Presto;Snowflake",
         "Microsoft SQL Server;PostgreSQL",
         "Amazon Web Services (AWS);Microsoft Azure",
         null,
         null,
         null,
         null,
         null,
         "Arduino;Rasberry Pi",
         "Arduino;Rasberry Pi",
         "Arduino;Rasberry Pi",
         "Apache Spark;Pandas",
         "Apache Spark;Pandas",
         "Apache Spark;Pandas",
         "Chocolatey;Godot;Pip",
         "Chocolatey;Godot;Pip",
         "Chocolatey;Godot;Pip",
         "IPython;Visual Studio Code",
         "IPython;Visual Studio Code",
         "IPython;Visual Studio Code",
         "Ubuntu;Windows;Windows Subsystem for Linux (WSL)",
         "Arch;Debian;Ubuntu;Windows;Windows Subsystem for Linux (WSL)",
         null,
         null,
         null,
         "Microsoft Teams",
         null,
         null,
         null,
         null,
         null,
         "Stack Overflow",
         "Daily or almost daily",
         "Yes",
         "Less than once per month or monthly",
         "Quickly finding code solutions;Learning new-to-me technology/techniques",
         "Yes, somewhat",
         "No, and I don't plan to",
         null,
         null,
         null,
         null,
         null,
         null,
         null,
         null,
         null,
         null,
         null,
         null,
         null,
         null,
         null,
         "Yes",
         "Individual contributor",
         "25.0",
         "Agree",
         "Agree",
         "Agree",
         "Neither agree nor disagree",
         "Neither agree nor disagree",
         "Agree",
         "Agree",
         "Neither agree nor disagree",
         "Strongly disagree",
         "1-2 times a week",
         "3-5 times a week",
         "1-2 times a week",
         "Over 120 minutes a day",
         "15-30 minutes a day",
         "Amount of technical debt",
         "None of these",
         "Hybrid (on-prem and cloud)",
         "A coworker",
         "Other:",
         "0.0",
         "0.0",
         "10.0",
         "10.0",
         "30.0",
         "50.0",
         "0.0",
         "0.0",
         "0.0",
         "Appropriate in length",
         "Neither easy nor difficult",
         null,
         "8.0"
        ]
       ],
       "shape": {
        "columns": 114,
        "rows": 5
       }
      },
      "text/html": [
       "<div>\n",
       "<style scoped>\n",
       "    .dataframe tbody tr th:only-of-type {\n",
       "        vertical-align: middle;\n",
       "    }\n",
       "\n",
       "    .dataframe tbody tr th {\n",
       "        vertical-align: top;\n",
       "    }\n",
       "\n",
       "    .dataframe thead th {\n",
       "        text-align: right;\n",
       "    }\n",
       "</style>\n",
       "<table border=\"1\" class=\"dataframe\">\n",
       "  <thead>\n",
       "    <tr style=\"text-align: right;\">\n",
       "      <th></th>\n",
       "      <th>ResponseId</th>\n",
       "      <th>MainBranch</th>\n",
       "      <th>Age</th>\n",
       "      <th>Employment</th>\n",
       "      <th>RemoteWork</th>\n",
       "      <th>Check</th>\n",
       "      <th>CodingActivities</th>\n",
       "      <th>EdLevel</th>\n",
       "      <th>LearnCode</th>\n",
       "      <th>LearnCodeOnline</th>\n",
       "      <th>...</th>\n",
       "      <th>JobSatPoints_6</th>\n",
       "      <th>JobSatPoints_7</th>\n",
       "      <th>JobSatPoints_8</th>\n",
       "      <th>JobSatPoints_9</th>\n",
       "      <th>JobSatPoints_10</th>\n",
       "      <th>JobSatPoints_11</th>\n",
       "      <th>SurveyLength</th>\n",
       "      <th>SurveyEase</th>\n",
       "      <th>ConvertedCompYearly</th>\n",
       "      <th>JobSat</th>\n",
       "    </tr>\n",
       "  </thead>\n",
       "  <tbody>\n",
       "    <tr>\n",
       "      <th>6824</th>\n",
       "      <td>6825</td>\n",
       "      <td>I am a developer by profession</td>\n",
       "      <td>25-34 years old</td>\n",
       "      <td>Employed, full-time</td>\n",
       "      <td>In-person</td>\n",
       "      <td>Apples</td>\n",
       "      <td>Hobby;Freelance/contract work</td>\n",
       "      <td>Bachelor’s degree (B.A., B.S., B.Eng., etc.)</td>\n",
       "      <td>Books / Physical media;Other online resources ...</td>\n",
       "      <td>Technical documentation;Blogs;Books;Written Tu...</td>\n",
       "      <td>...</td>\n",
       "      <td>0.0</td>\n",
       "      <td>0.0</td>\n",
       "      <td>0.0</td>\n",
       "      <td>0.0</td>\n",
       "      <td>0.0</td>\n",
       "      <td>0.0</td>\n",
       "      <td>Too long</td>\n",
       "      <td>Neither easy nor difficult</td>\n",
       "      <td>4079.0</td>\n",
       "      <td>5.0</td>\n",
       "    </tr>\n",
       "    <tr>\n",
       "      <th>47683</th>\n",
       "      <td>47684</td>\n",
       "      <td>I am a developer by profession</td>\n",
       "      <td>35-44 years old</td>\n",
       "      <td>Employed, full-time</td>\n",
       "      <td>In-person</td>\n",
       "      <td>Apples</td>\n",
       "      <td>Hobby;Bootstrapping a business;Professional de...</td>\n",
       "      <td>Master’s degree (M.A., M.S., M.Eng., MBA, etc.)</td>\n",
       "      <td>Other online resources (e.g., videos, blogs, f...</td>\n",
       "      <td>Technical documentation;Blogs;Written Tutorial...</td>\n",
       "      <td>...</td>\n",
       "      <td>20.0</td>\n",
       "      <td>20.0</td>\n",
       "      <td>30.0</td>\n",
       "      <td>5.0</td>\n",
       "      <td>0.0</td>\n",
       "      <td>0.0</td>\n",
       "      <td>Appropriate in length</td>\n",
       "      <td>Easy</td>\n",
       "      <td>NaN</td>\n",
       "      <td>9.0</td>\n",
       "    </tr>\n",
       "    <tr>\n",
       "      <th>59887</th>\n",
       "      <td>59888</td>\n",
       "      <td>I am a developer by profession</td>\n",
       "      <td>55-64 years old</td>\n",
       "      <td>Not employed, but looking for work;Independent...</td>\n",
       "      <td>Remote</td>\n",
       "      <td>Apples</td>\n",
       "      <td>Freelance/contract work</td>\n",
       "      <td>Master’s degree (M.A., M.S., M.Eng., MBA, etc.)</td>\n",
       "      <td>Books / Physical media;Colleague;On the job tr...</td>\n",
       "      <td>NaN</td>\n",
       "      <td>...</td>\n",
       "      <td>NaN</td>\n",
       "      <td>NaN</td>\n",
       "      <td>NaN</td>\n",
       "      <td>NaN</td>\n",
       "      <td>NaN</td>\n",
       "      <td>NaN</td>\n",
       "      <td>NaN</td>\n",
       "      <td>NaN</td>\n",
       "      <td>NaN</td>\n",
       "      <td>NaN</td>\n",
       "    </tr>\n",
       "    <tr>\n",
       "      <th>3879</th>\n",
       "      <td>3880</td>\n",
       "      <td>I am a developer by profession</td>\n",
       "      <td>35-44 years old</td>\n",
       "      <td>Employed, full-time</td>\n",
       "      <td>Remote</td>\n",
       "      <td>Apples</td>\n",
       "      <td>I don’t code outside of work</td>\n",
       "      <td>Professional degree (JD, MD, Ph.D, Ed.D, etc.)</td>\n",
       "      <td>Coding Bootcamp</td>\n",
       "      <td>NaN</td>\n",
       "      <td>...</td>\n",
       "      <td>0.0</td>\n",
       "      <td>0.0</td>\n",
       "      <td>0.0</td>\n",
       "      <td>0.0</td>\n",
       "      <td>0.0</td>\n",
       "      <td>0.0</td>\n",
       "      <td>Appropriate in length</td>\n",
       "      <td>Neither easy nor difficult</td>\n",
       "      <td>NaN</td>\n",
       "      <td>8.0</td>\n",
       "    </tr>\n",
       "    <tr>\n",
       "      <th>52469</th>\n",
       "      <td>52470</td>\n",
       "      <td>I am a developer by profession</td>\n",
       "      <td>45-54 years old</td>\n",
       "      <td>Employed, full-time</td>\n",
       "      <td>Remote</td>\n",
       "      <td>Apples</td>\n",
       "      <td>Hobby;Contribute to open-source projects</td>\n",
       "      <td>Master’s degree (M.A., M.S., M.Eng., MBA, etc.)</td>\n",
       "      <td>Other online resources (e.g., videos, blogs, f...</td>\n",
       "      <td>Technical documentation;Books;Stack Overflow;O...</td>\n",
       "      <td>...</td>\n",
       "      <td>10.0</td>\n",
       "      <td>30.0</td>\n",
       "      <td>50.0</td>\n",
       "      <td>0.0</td>\n",
       "      <td>0.0</td>\n",
       "      <td>0.0</td>\n",
       "      <td>Appropriate in length</td>\n",
       "      <td>Neither easy nor difficult</td>\n",
       "      <td>NaN</td>\n",
       "      <td>8.0</td>\n",
       "    </tr>\n",
       "  </tbody>\n",
       "</table>\n",
       "<p>5 rows × 114 columns</p>\n",
       "</div>"
      ],
      "text/plain": [
       "       ResponseId                      MainBranch              Age  \\\n",
       "6824         6825  I am a developer by profession  25-34 years old   \n",
       "47683       47684  I am a developer by profession  35-44 years old   \n",
       "59887       59888  I am a developer by profession  55-64 years old   \n",
       "3879         3880  I am a developer by profession  35-44 years old   \n",
       "52469       52470  I am a developer by profession  45-54 years old   \n",
       "\n",
       "                                              Employment RemoteWork   Check  \\\n",
       "6824                                 Employed, full-time  In-person  Apples   \n",
       "47683                                Employed, full-time  In-person  Apples   \n",
       "59887  Not employed, but looking for work;Independent...     Remote  Apples   \n",
       "3879                                 Employed, full-time     Remote  Apples   \n",
       "52469                                Employed, full-time     Remote  Apples   \n",
       "\n",
       "                                        CodingActivities  \\\n",
       "6824                       Hobby;Freelance/contract work   \n",
       "47683  Hobby;Bootstrapping a business;Professional de...   \n",
       "59887                            Freelance/contract work   \n",
       "3879                        I don’t code outside of work   \n",
       "52469           Hobby;Contribute to open-source projects   \n",
       "\n",
       "                                               EdLevel  \\\n",
       "6824      Bachelor’s degree (B.A., B.S., B.Eng., etc.)   \n",
       "47683  Master’s degree (M.A., M.S., M.Eng., MBA, etc.)   \n",
       "59887  Master’s degree (M.A., M.S., M.Eng., MBA, etc.)   \n",
       "3879    Professional degree (JD, MD, Ph.D, Ed.D, etc.)   \n",
       "52469  Master’s degree (M.A., M.S., M.Eng., MBA, etc.)   \n",
       "\n",
       "                                               LearnCode  \\\n",
       "6824   Books / Physical media;Other online resources ...   \n",
       "47683  Other online resources (e.g., videos, blogs, f...   \n",
       "59887  Books / Physical media;Colleague;On the job tr...   \n",
       "3879                                     Coding Bootcamp   \n",
       "52469  Other online resources (e.g., videos, blogs, f...   \n",
       "\n",
       "                                         LearnCodeOnline  ... JobSatPoints_6  \\\n",
       "6824   Technical documentation;Blogs;Books;Written Tu...  ...            0.0   \n",
       "47683  Technical documentation;Blogs;Written Tutorial...  ...           20.0   \n",
       "59887                                                NaN  ...            NaN   \n",
       "3879                                                 NaN  ...            0.0   \n",
       "52469  Technical documentation;Books;Stack Overflow;O...  ...           10.0   \n",
       "\n",
       "      JobSatPoints_7 JobSatPoints_8 JobSatPoints_9 JobSatPoints_10  \\\n",
       "6824             0.0            0.0            0.0             0.0   \n",
       "47683           20.0           30.0            5.0             0.0   \n",
       "59887            NaN            NaN            NaN             NaN   \n",
       "3879             0.0            0.0            0.0             0.0   \n",
       "52469           30.0           50.0            0.0             0.0   \n",
       "\n",
       "      JobSatPoints_11           SurveyLength                  SurveyEase  \\\n",
       "6824              0.0               Too long  Neither easy nor difficult   \n",
       "47683             0.0  Appropriate in length                        Easy   \n",
       "59887             NaN                    NaN                         NaN   \n",
       "3879              0.0  Appropriate in length  Neither easy nor difficult   \n",
       "52469             0.0  Appropriate in length  Neither easy nor difficult   \n",
       "\n",
       "      ConvertedCompYearly JobSat  \n",
       "6824               4079.0    5.0  \n",
       "47683                 NaN    9.0  \n",
       "59887                 NaN    NaN  \n",
       "3879                  NaN    8.0  \n",
       "52469                 NaN    8.0  \n",
       "\n",
       "[5 rows x 114 columns]"
      ]
     },
     "execution_count": 44,
     "metadata": {},
     "output_type": "execute_result"
    }
   ],
   "source": [
    "df1.sample(5)"
   ]
  },
  {
   "cell_type": "code",
   "execution_count": null,
   "id": "624119ac",
   "metadata": {},
   "outputs": [
    {
     "data": {
      "application/vnd.microsoft.datawrangler.viewer.v0+json": {
       "columns": [
        {
         "name": "index",
         "rawType": "int64",
         "type": "integer"
        },
        {
         "name": "qid",
         "rawType": "object",
         "type": "string"
        },
        {
         "name": "qname",
         "rawType": "object",
         "type": "string"
        },
        {
         "name": "question",
         "rawType": "object",
         "type": "string"
        },
        {
         "name": "force_resp",
         "rawType": "object",
         "type": "unknown"
        },
        {
         "name": "type",
         "rawType": "object",
         "type": "string"
        },
        {
         "name": "selector",
         "rawType": "object",
         "type": "string"
        }
       ],
       "ref": "33062701-120a-4e88-9835-941801e8a988",
       "rows": [
        [
         "43",
         "QID343",
         "AIComplex",
         "How well do the AI tools you use in your development workflow handle complex tasks?",
         "False",
         "MC",
         "SAVR"
        ],
        [
         "37",
         "QID334",
         "SOHow",
         "How do you use Stack Overflow?  Select all that apply.",
         "False",
         "MC",
         "MAVR"
        ],
        [
         "40",
         "QID315",
         "AISent",
         "How favorable is your stance on using AI tools as part of your development workflow?",
         "False",
         "MC",
         "SAVR"
        ],
        [
         "78",
         "QID337",
         "JobSatPoints_1",
         "Driving strategy for my team",
         null,
         "MC",
         "MAVR"
        ],
        [
         "35",
         "QID101",
         "SOAccount",
         "Do you have a Stack Overflow account?",
         "False",
         "MC",
         "SAVR"
        ]
       ],
       "shape": {
        "columns": 6,
        "rows": 5
       }
      },
      "text/html": [
       "<div>\n",
       "<style scoped>\n",
       "    .dataframe tbody tr th:only-of-type {\n",
       "        vertical-align: middle;\n",
       "    }\n",
       "\n",
       "    .dataframe tbody tr th {\n",
       "        vertical-align: top;\n",
       "    }\n",
       "\n",
       "    .dataframe thead th {\n",
       "        text-align: right;\n",
       "    }\n",
       "</style>\n",
       "<table border=\"1\" class=\"dataframe\">\n",
       "  <thead>\n",
       "    <tr style=\"text-align: right;\">\n",
       "      <th></th>\n",
       "      <th>qid</th>\n",
       "      <th>qname</th>\n",
       "      <th>question</th>\n",
       "      <th>force_resp</th>\n",
       "      <th>type</th>\n",
       "      <th>selector</th>\n",
       "    </tr>\n",
       "  </thead>\n",
       "  <tbody>\n",
       "    <tr>\n",
       "      <th>43</th>\n",
       "      <td>QID343</td>\n",
       "      <td>AIComplex</td>\n",
       "      <td>How well do the AI tools you use in your devel...</td>\n",
       "      <td>False</td>\n",
       "      <td>MC</td>\n",
       "      <td>SAVR</td>\n",
       "    </tr>\n",
       "    <tr>\n",
       "      <th>37</th>\n",
       "      <td>QID334</td>\n",
       "      <td>SOHow</td>\n",
       "      <td>How do you use Stack Overflow?  Select all tha...</td>\n",
       "      <td>False</td>\n",
       "      <td>MC</td>\n",
       "      <td>MAVR</td>\n",
       "    </tr>\n",
       "    <tr>\n",
       "      <th>40</th>\n",
       "      <td>QID315</td>\n",
       "      <td>AISent</td>\n",
       "      <td>How favorable is your stance on using AI tools...</td>\n",
       "      <td>False</td>\n",
       "      <td>MC</td>\n",
       "      <td>SAVR</td>\n",
       "    </tr>\n",
       "    <tr>\n",
       "      <th>78</th>\n",
       "      <td>QID337</td>\n",
       "      <td>JobSatPoints_1</td>\n",
       "      <td>Driving strategy for my team</td>\n",
       "      <td>NaN</td>\n",
       "      <td>MC</td>\n",
       "      <td>MAVR</td>\n",
       "    </tr>\n",
       "    <tr>\n",
       "      <th>35</th>\n",
       "      <td>QID101</td>\n",
       "      <td>SOAccount</td>\n",
       "      <td>Do you have a Stack Overflow account?</td>\n",
       "      <td>False</td>\n",
       "      <td>MC</td>\n",
       "      <td>SAVR</td>\n",
       "    </tr>\n",
       "  </tbody>\n",
       "</table>\n",
       "</div>"
      ],
      "text/plain": [
       "       qid           qname                                           question  \\\n",
       "43  QID343       AIComplex  How well do the AI tools you use in your devel...   \n",
       "37  QID334           SOHow  How do you use Stack Overflow?  Select all tha...   \n",
       "40  QID315          AISent  How favorable is your stance on using AI tools...   \n",
       "78  QID337  JobSatPoints_1                       Driving strategy for my team   \n",
       "35  QID101       SOAccount              Do you have a Stack Overflow account?   \n",
       "\n",
       "   force_resp type selector  \n",
       "43      False   MC     SAVR  \n",
       "37      False   MC     MAVR  \n",
       "40      False   MC     SAVR  \n",
       "78        NaN   MC     MAVR  \n",
       "35      False   MC     SAVR  "
      ]
     },
     "execution_count": 45,
     "metadata": {},
     "output_type": "execute_result"
    }
   ],
   "source": [
    "df2.sample(5)"
   ]
  },
  {
   "cell_type": "markdown",
   "id": "507546f6",
   "metadata": {},
   "source": [
    "## 1. How many respondents completed the survey?"
   ]
  },
  {
   "cell_type": "code",
   "execution_count": 46,
   "id": "63b1300d",
   "metadata": {},
   "outputs": [
    {
     "data": {
      "text/plain": [
       "65437"
      ]
     },
     "execution_count": 46,
     "metadata": {},
     "output_type": "execute_result"
    }
   ],
   "source": [
    "df1['ResponseId'].nunique()"
   ]
  },
  {
   "cell_type": "markdown",
   "id": "dba5c580",
   "metadata": {},
   "source": [
    "## 2. How many respondents answered all the questions?"
   ]
  },
  {
   "cell_type": "code",
   "execution_count": null,
   "id": "a74c0d3b",
   "metadata": {},
   "outputs": [
    {
     "data": {
      "text/plain": [
       "6306"
      ]
     },
     "execution_count": 47,
     "metadata": {},
     "output_type": "execute_result"
    }
   ],
   "source": [
    "q_set = set(df1.columns) & set(df2['qname'])\n",
    "df1[list(q_set)].dropna().shape[0] "
   ]
  },
  {
   "cell_type": "markdown",
   "id": "c741c619",
   "metadata": {},
   "source": [
    "## 3. What are the values ​​of the measures of central tendency for the experience of the respondents?"
   ]
  },
  {
   "cell_type": "code",
   "execution_count": null,
   "id": "9417366d",
   "metadata": {},
   "outputs": [
    {
     "name": "stdout",
     "output_type": "stream",
     "text": [
      "Average: 11.5 years\n",
      "Median: 9.0 years\n"
     ]
    }
   ],
   "source": [
    "print(f\"Average: {round(df1['WorkExp'].mean(), 1)} years\")\n",
    "print(f\"Median: {round(df1['WorkExp'].median(),1)} years\") "
   ]
  },
  {
   "cell_type": "markdown",
   "id": "0fd22653",
   "metadata": {},
   "source": [
    "## 4. How many respondents work remotely?"
   ]
  },
  {
   "cell_type": "code",
   "execution_count": null,
   "id": "5971e767",
   "metadata": {},
   "outputs": [
    {
     "data": {
      "text/plain": [
       "20831"
      ]
     },
     "execution_count": 49,
     "metadata": {},
     "output_type": "execute_result"
    }
   ],
   "source": [
    "count = 0\n",
    "for i in df1['RemoteWork']:\n",
    "    if i == 'Remote':\n",
    "        count += 1\n",
    "count"
   ]
  },
  {
   "cell_type": "markdown",
   "id": "220d16a0",
   "metadata": {},
   "source": [
    "## 5. What percentage of respondents program in Python?"
   ]
  },
  {
   "cell_type": "code",
   "execution_count": null,
   "id": "b5080123",
   "metadata": {},
   "outputs": [
    {
     "data": {
      "text/plain": [
       "46.94"
      ]
     },
     "execution_count": 50,
     "metadata": {},
     "output_type": "execute_result"
    }
   ],
   "source": [
    "count = 0\n",
    "for i in df1['LanguageHaveWorkedWith'].dropna():\n",
    "    if 'Python' in i.split(';'):\n",
    "        count += 1\n",
    "\n",
    "round(count / df1['ResponseId'].nunique() * 100, 2)"
   ]
  },
  {
   "cell_type": "markdown",
   "id": "304747b6",
   "metadata": {},
   "source": [
    "## 6. How many respondents learned to program using online courses?"
   ]
  },
  {
   "cell_type": "code",
   "execution_count": null,
   "id": "b72ac34b",
   "metadata": {},
   "outputs": [
    {
     "data": {
      "text/plain": [
       "49237"
      ]
     },
     "execution_count": 51,
     "metadata": {},
     "output_type": "execute_result"
    }
   ],
   "source": [
    "int(df1['LearnCodeOnline'].dropna().count())"
   ]
  },
  {
   "cell_type": "markdown",
   "id": "a484aa78",
   "metadata": {},
   "source": [
    "## 7. Among respondents who program in python, grouped by country, what is the average and median compensation amount in each country?"
   ]
  },
  {
   "cell_type": "code",
   "execution_count": null,
   "id": "81dc0595",
   "metadata": {},
   "outputs": [
    {
     "name": "stdout",
     "output_type": "stream",
     "text": [
      "Pakistan: mean = 62145, median = 7322\n",
      "Austria: mean = 63794, median = 61361\n",
      "Turkey: mean = 31977, median = 22258\n",
      "France: mean = 62111, median = 53703\n",
      "United States of America: mean = 163042, median = 140000\n",
      "United Kingdom of Great Britain and Northern Ireland: mean = 104126, median = 85350\n",
      "Bulgaria: mean = 60068, median = 54923\n",
      "Greece: mean = 45652, median = 34585\n",
      "Italy: mean = 48442, median = 42962\n",
      "Russian Federation: mean = 34744, median = 26891\n",
      "Germany: mean = 75191, median = 70888\n",
      "South Africa: mean = 236564, median = 45737\n",
      "Czech Republic: mean = 53979, median = 43435\n",
      "Dominican Republic: mean = 42706, median = 32204\n",
      "Peru: mean = 33938, median = 25086\n",
      "Morocco: mean = 13394, median = 10854\n",
      "India: mean = 27304, median = 17945\n",
      "Ukraine: mean = 38124, median = 27646\n",
      "Ireland: mean = 95734, median = 85925\n",
      "Romania: mean = 50852, median = 47470\n",
      "Spain: mean = 55723, median = 50816\n",
      "Lithuania: mean = 67860, median = 53703\n",
      "Singapore: mean = 143857, median = 88699\n",
      "Netherlands: mean = 82438, median = 69814\n",
      "Japan: mean = 69581, median = 50915\n",
      "Latvia: mean = 55589, median = 55851\n",
      "Poland: mean = 60087, median = 53452\n",
      "Canada: mean = 105136, median = 87231\n",
      "Norway: mean = 78902, median = 74873\n",
      "Portugal: mean = 59412, median = 49676\n",
      "Venezuela, Bolivarian Republic of...: mean = 21500, median = 7100\n",
      "Finland: mean = 64680, median = 59073\n",
      "Cyprus: mean = 151114, median = 84851\n",
      "Israel: mean = 126673, median = 116572\n",
      "Croatia: mean = 70083, median = 51018\n",
      "Hungary: mean = 53481, median = 40763\n",
      "Bangladesh: mean = 10052, median = 6161\n",
      "Indonesia: mean = 12403, median = 6918\n",
      "Denmark: mean = 81834, median = 86401\n",
      "Switzerland: mean = 112311, median = 111417\n",
      "Philippines: mean = 37971, median = 17447\n",
      "Brazil: mean = 35595, median = 23749\n",
      "Mexico: mean = 34177, median = 30189\n",
      "Slovakia: mean = 45362, median = 39310\n",
      "El Salvador: mean = 52280, median = 50400\n",
      "Argentina: mean = 41243, median = 24000\n",
      "Algeria: mean = 9053, median = 6230\n",
      "Georgia: mean = 52504, median = 49846\n",
      "Belgium: mean = 75150, median = 68740\n",
      "Sweden: mean = 65366, median = 57230\n",
      "Colombia: mean = 26930, median = 19177\n",
      "Slovenia: mean = 52127, median = 53703\n",
      "Australia: mean = 101653, median = 85886\n",
      "Afghanistan: mean = 6057, median = 5940\n",
      "Isle of Man: mean = 111087, median = 104340\n",
      "Ecuador: mean = 24750, median = 14000\n",
      "Paraguay: mean = 49425, median = 17249\n",
      "Egypt: mean = 20965, median = 10725\n",
      "New Zealand: mean = 83303, median = 73748\n",
      "Nigeria: mean = 8241, median = 1462\n",
      "Fiji: mean = 25176, median = 25176\n",
      "Guatemala: mean = 30281, median = 30206\n",
      "Turkmenistan: mean = 20570, median = 998\n",
      "Armenia: mean = 17330, median = 6450\n",
      "Kenya: mean = 88026, median = 9210\n",
      "Gabon: mean = 2000000, median = 2000000\n",
      "Chile: mean = 37164, median = 38994\n",
      "China: mean = 54913, median = 41392\n",
      "Uruguay: mean = 78754, median = 70679\n",
      "United Arab Emirates: mean = 74751, median = 66704\n",
      "Thailand: mean = 39611, median = 32696\n",
      "Sri Lanka: mean = 19064, median = 11688\n",
      "Malaysia: mean = 26732, median = 16951\n",
      "Estonia: mean = 63638, median = 61415\n",
      "Mongolia: mean = 19936, median = 19936\n",
      "Viet Nam: mean = 14015, median = 10180\n",
      "Bolivia: mean = 31250, median = 20448\n",
      "Hong Kong (S.A.R.): mean = 88480, median = 53757\n",
      "Iran, Islamic Republic of...: mean = 117675, median = 27194\n",
      "South Korea: mean = 49239, median = 38804\n",
      "Republic of Korea: mean = 43520, median = 50773\n",
      "Nepal: mean = 7864, median = 5189\n",
      "Taiwan: mean = 41344, median = 32120\n",
      "Benin: mean = 2617, median = 2617\n",
      "Democratic Republic of the Congo: mean = 12000, median = 12000\n",
      "Syrian Arab Republic: mean = 28442, median = 7403\n",
      "Ghana: mean = 7013, median = 3600\n",
      "Serbia: mean = 47600, median = 37159\n",
      "Kyrgyzstan: mean = 9277, median = 1012\n",
      "Kazakhstan: mean = 31147, median = 28801\n",
      "Malta: mean = 55314, median = 52092\n",
      "Saudi Arabia: mean = 94212, median = 99990\n",
      "Iceland: mean = 63499, median = 53380\n",
      "Lebanon: mean = 29850, median = 33750\n",
      "Mauritania: mean = 12062, median = 12062\n",
      "Sierra Leone: mean = 1, median = 1\n",
      "Cuba: mean = 20035, median = 11700\n",
      "Costa Rica: mean = 74226, median = 54600\n",
      "Guyana: mean = 42, median = 42\n",
      "Uzbekistan: mean = 30738, median = 11586\n",
      "Zambia: mean = 28124, median = 22803\n",
      "Ethiopia: mean = 4462, median = 3135\n",
      "Palestine: mean = 17526, median = 17526\n",
      "Republic of Moldova: mean = 28719, median = 29798\n",
      "Nomadic: mean = 112776, median = 112776\n",
      "Andorra: mean = 193331, median = 193331\n",
      "Republic of North Macedonia: mean = 30371, median = 23180\n",
      "Kuwait: mean = 54617, median = 54617\n",
      "Bosnia and Herzegovina: mean = 45104, median = 47983\n",
      "Tunisia: mean = 20837, median = 10997\n",
      "Qatar: mean = 53553, median = 53553\n",
      "Luxembourg: mean = 115929, median = 118146\n",
      "Belarus: mean = 22016, median = 15256\n",
      "Tajikistan: mean = 13426, median = 13426\n",
      "Kosovo: mean = 25777, median = 25777\n",
      "Mauritius: mean = 27780, median = 11264\n",
      "Malawi: mean = 5694, median = 5694\n",
      "Albania: mean = 56295, median = 56295\n",
      "United Republic of Tanzania: mean = 20204, median = 15296\n",
      "Madagascar: mean = 5906, median = 5906\n",
      "Rwanda: mean = 15687, median = 16264\n",
      "Iraq: mean = 18036, median = 15980\n",
      "Yemen: mean = 10297, median = 5333\n",
      "Myanmar: mean = 6359, median = 6359\n",
      "Jordan: mean = 76663, median = 49379\n",
      "Azerbaijan: mean = 39479, median = 29444\n",
      "Central African Republic: mean = 44, median = 44\n",
      "Suriname: mean = 6000, median = 6000\n",
      "Libyan Arab Jamahiriya: mean = 9897, median = 9897\n",
      "Uganda: mean = 32466, median = 9019\n",
      "Bahrain: mean = 36218, median = 36218\n",
      "Bhutan: mean = 1195, median = 1195\n",
      "Zimbabwe: mean = 37500, median = 18000\n",
      "Côte d'Ivoire: mean = 4588, median = 4588\n",
      "Jamaica: mean = 8545, median = 8545\n",
      "Trinidad and Tobago: mean = 38000, median = 38000\n",
      "Mozambique: mean = 4724, median = 4724\n",
      "Angola: mean = 6, median = 6\n",
      "Samoa: mean = 85620, median = 85620\n",
      "Maldives: mean = 16752, median = 17142\n",
      "Brunei Darussalam: mean = 31880, median = 31880\n",
      "Lesotho: mean = 15600, median = 15600\n",
      "Cambodia: mean = 120000, median = 120000\n",
      "Burundi: mean = 4170, median = 4170\n",
      "Panama: mean = 9000, median = 9000\n",
      "Botswana: mean = 40036, median = 40036\n",
      "Liechtenstein: mean = 38996, median = 38996\n",
      "Senegal: mean = 7852, median = 7852\n",
      "Honduras: mean = 14534, median = 14534\n",
      "Mali: mean = 43620, median = 43620\n",
      "Congo, Republic of the...: mean = 30000, median = 30000\n"
     ]
    }
   ],
   "source": [
    "# had to brootforce this one :\\\n",
    "def python_prog(x):\n",
    "    if 'Python' in str(x).split(';'):\n",
    "        return True\n",
    "    return False\n",
    "\n",
    "d = {}\n",
    "\n",
    "for indx, row in df1.iterrows():\n",
    "    if python_prog(row['LanguageHaveWorkedWith']):\n",
    "        country = row['Country']\n",
    "        salary = row['ConvertedCompYearly']\n",
    "        if not pd.isna(salary):\n",
    "            d.setdefault(country, []).append(salary)\n",
    "\n",
    "final = {}\n",
    "\n",
    "for k, v in d.items():\n",
    "    mean = int(round(stats.mean(v), 0))\n",
    "    median = int(round(stats.median(v), 0))\n",
    "    final[k] = [mean, median]\n",
    "    print(f\"{k}: mean = {mean}, median = {median}\")\n"
   ]
  },
  {
   "cell_type": "markdown",
   "id": "94d37ceb",
   "metadata": {},
   "source": [
    "## 8. What are the education levels of the 5 respondents with the highest compensation?"
   ]
  },
  {
   "cell_type": "code",
   "execution_count": null,
   "id": "9f9040bd",
   "metadata": {},
   "outputs": [
    {
     "data": {
      "application/vnd.microsoft.datawrangler.viewer.v0+json": {
       "columns": [
        {
         "name": "index",
         "rawType": "int64",
         "type": "integer"
        },
        {
         "name": "ConvertedCompYearly",
         "rawType": "float64",
         "type": "float"
        },
        {
         "name": "EdLevel",
         "rawType": "object",
         "type": "string"
        }
       ],
       "ref": "74bcc543-f548-4865-9d7f-08a2f7d99c10",
       "rows": [
        [
         "15837",
         "16256603.0",
         "Bachelor’s degree (B.A., B.S., B.Eng., etc.)"
        ],
        [
         "12723",
         "13818022.0",
         "Professional degree (JD, MD, Ph.D, Ed.D, etc.)"
        ],
        [
         "28379",
         "9000000.0",
         "Professional degree (JD, MD, Ph.D, Ed.D, etc.)"
        ],
        [
         "17593",
         "6340564.0",
         "Bachelor’s degree (B.A., B.S., B.Eng., etc.)"
        ],
        [
         "17672",
         "4936778.0",
         "Professional degree (JD, MD, Ph.D, Ed.D, etc.)"
        ]
       ],
       "shape": {
        "columns": 2,
        "rows": 5
       }
      },
      "text/html": [
       "<div>\n",
       "<style scoped>\n",
       "    .dataframe tbody tr th:only-of-type {\n",
       "        vertical-align: middle;\n",
       "    }\n",
       "\n",
       "    .dataframe tbody tr th {\n",
       "        vertical-align: top;\n",
       "    }\n",
       "\n",
       "    .dataframe thead th {\n",
       "        text-align: right;\n",
       "    }\n",
       "</style>\n",
       "<table border=\"1\" class=\"dataframe\">\n",
       "  <thead>\n",
       "    <tr style=\"text-align: right;\">\n",
       "      <th></th>\n",
       "      <th>ConvertedCompYearly</th>\n",
       "      <th>EdLevel</th>\n",
       "    </tr>\n",
       "  </thead>\n",
       "  <tbody>\n",
       "    <tr>\n",
       "      <th>15837</th>\n",
       "      <td>16256603.0</td>\n",
       "      <td>Bachelor’s degree (B.A., B.S., B.Eng., etc.)</td>\n",
       "    </tr>\n",
       "    <tr>\n",
       "      <th>12723</th>\n",
       "      <td>13818022.0</td>\n",
       "      <td>Professional degree (JD, MD, Ph.D, Ed.D, etc.)</td>\n",
       "    </tr>\n",
       "    <tr>\n",
       "      <th>28379</th>\n",
       "      <td>9000000.0</td>\n",
       "      <td>Professional degree (JD, MD, Ph.D, Ed.D, etc.)</td>\n",
       "    </tr>\n",
       "    <tr>\n",
       "      <th>17593</th>\n",
       "      <td>6340564.0</td>\n",
       "      <td>Bachelor’s degree (B.A., B.S., B.Eng., etc.)</td>\n",
       "    </tr>\n",
       "    <tr>\n",
       "      <th>17672</th>\n",
       "      <td>4936778.0</td>\n",
       "      <td>Professional degree (JD, MD, Ph.D, Ed.D, etc.)</td>\n",
       "    </tr>\n",
       "  </tbody>\n",
       "</table>\n",
       "</div>"
      ],
      "text/plain": [
       "       ConvertedCompYearly                                         EdLevel\n",
       "15837           16256603.0    Bachelor’s degree (B.A., B.S., B.Eng., etc.)\n",
       "12723           13818022.0  Professional degree (JD, MD, Ph.D, Ed.D, etc.)\n",
       "28379            9000000.0  Professional degree (JD, MD, Ph.D, Ed.D, etc.)\n",
       "17593            6340564.0    Bachelor’s degree (B.A., B.S., B.Eng., etc.)\n",
       "17672            4936778.0  Professional degree (JD, MD, Ph.D, Ed.D, etc.)"
      ]
     },
     "execution_count": 53,
     "metadata": {},
     "output_type": "execute_result"
    }
   ],
   "source": [
    "df1[['ConvertedCompYearly', 'EdLevel']].sort_values(by = 'ConvertedCompYearly', ascending = False).dropna().head(5)"
   ]
  },
  {
   "cell_type": "markdown",
   "id": "aa721797",
   "metadata": {},
   "source": [
    "## 9. In each age category, what percentage of respondents program in Python?"
   ]
  },
  {
   "cell_type": "code",
   "execution_count": null,
   "id": "94c0b3ad",
   "metadata": {},
   "outputs": [
    {
     "name": "stdout",
     "output_type": "stream",
     "text": [
      "Under 18 years old : 1656 (5.39%)\n",
      "35-44 years old : 6188 (20.14%)\n",
      "45-54 years old : 2611 (8.5%)\n",
      "18-24 years old : 7868 (25.61%)\n",
      "25-34 years old : 10927 (35.57%)\n",
      "55-64 years old : 1036 (3.37%)\n",
      "Prefer not to say : 145 (0.47%)\n",
      "65 years or older : 288 (0.94%)\n"
     ]
    }
   ],
   "source": [
    "def python_prog(x):\n",
    "    if 'Python' in str(x).split(';'):\n",
    "        return True\n",
    "    return False\n",
    "\n",
    "d = {}\n",
    "for k in df1['Age'].unique():\n",
    "    d[k] = 0\n",
    "\n",
    "for indx, row in df1.iterrows():\n",
    "    if python_prog(row['LanguageHaveWorkedWith']):\n",
    "        age = row['Age']\n",
    "        if age in d.keys():\n",
    "            d[age] += 1\n",
    "\n",
    "ttl = 0\n",
    "for i in df1['LanguageHaveWorkedWith'].dropna():\n",
    "    if 'Python' in i.split(';'):\n",
    "        ttl += 1\n",
    "\n",
    "for k, v in d.items():\n",
    "    perc = round(v / ttl * 100, 2)\n",
    "    print(f\"{k} : {v} ({perc}%)\")"
   ]
  }
 ],
 "metadata": {
  "kernelspec": {
   "display_name": "Python 3",
   "language": "python",
   "name": "python3"
  },
  "language_info": {
   "codemirror_mode": {
    "name": "ipython",
    "version": 3
   },
   "file_extension": ".py",
   "mimetype": "text/x-python",
   "name": "python",
   "nbconvert_exporter": "python",
   "pygments_lexer": "ipython3",
   "version": "3.11.5"
  }
 },
 "nbformat": 4,
 "nbformat_minor": 5
}
