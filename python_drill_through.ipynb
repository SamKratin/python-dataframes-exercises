{
 "cells": [
  {
   "cell_type": "markdown",
   "id": "ecc12a9b",
   "metadata": {},
   "source": [
    "# Practice makes perfect"
   ]
  },
  {
   "cell_type": "code",
   "execution_count": 3,
   "id": "6948f32f",
   "metadata": {},
   "outputs": [],
   "source": [
    "# This function takes a list of numbers and returns a new list containing only the odd numbers from the original list, each multiplied by 2\n",
    "def double_odd_numbers(numbers):\n",
    "    def is_odd(num):\n",
    "        return num % 2 != 0\n",
    "    def double(num):\n",
    "        return num*2\n",
    "    \n",
    "    return [double(num) for num in numbers if is_odd(num)]"
   ]
  },
  {
   "cell_type": "code",
   "execution_count": 5,
   "id": "620adfe2",
   "metadata": {},
   "outputs": [],
   "source": [
    "# This function performs a basic arithmetic operation (addition, subtraction, multiplication, division) on two numbers based on the specified operation character\n",
    "def calculate(x: int, y: int, operation = 'a') -> dict:\n",
    "    def addition(x, y):\n",
    "        return x + y\n",
    "    def subtraction(x, y):\n",
    "        return x - y\n",
    "    def division(x, y):\n",
    "        return x / y\n",
    "    def multiplication(x, y):\n",
    "        return x * y\n",
    "    \n",
    "    if operation == 'a':\n",
    "        return print(addition(x, y))\n",
    "    elif operation == 's':\n",
    "        return print(subtraction(x, y))\n",
    "    elif operation == 'd':\n",
    "        if y == 0:\n",
    "            return print('Can\\'t divide by zero!')\n",
    "        else:\n",
    "            return print(division(x, y))\n",
    "    elif operation == 'm':\n",
    "        return print(multiplication(x, y))\n",
    "    else:\n",
    "        return print('Error: Invalid operation')"
   ]
  },
  {
   "cell_type": "code",
   "execution_count": null,
   "id": "8bc70ebc",
   "metadata": {},
   "outputs": [],
   "source": []
  }
 ],
 "metadata": {
  "kernelspec": {
   "display_name": "Python 3",
   "language": "python",
   "name": "python3"
  },
  "language_info": {
   "codemirror_mode": {
    "name": "ipython",
    "version": 3
   },
   "file_extension": ".py",
   "mimetype": "text/x-python",
   "name": "python",
   "nbconvert_exporter": "python",
   "pygments_lexer": "ipython3",
   "version": "3.11.5"
  }
 },
 "nbformat": 4,
 "nbformat_minor": 5
}
